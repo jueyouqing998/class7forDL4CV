{
  "nbformat": 4,
  "nbformat_minor": 0,
  "metadata": {
    "colab": {
      "name": "mnist&fasionmnist训练迁移",
      "version": "0.3.2",
      "views": {},
      "default_view": {},
      "provenance": [
        {
          "file_id": "/v2/external/notebooks/welcome.ipynb",
          "timestamp": 1523201615304
        }
      ],
      "collapsed_sections": []
    },
    "kernelspec": {
      "display_name": "Python 3",
      "name": "python3"
    },
    "accelerator": "GPU"
  },
  "cells": [
    {
      "metadata": {
        "id": "BT20K2FWUq-Z",
        "colab_type": "text"
      },
      "cell_type": "markdown",
      "source": [
        "mnist"
      ]
    },
    {
      "metadata": {
        "id": "na0VvPXmYKp1",
        "colab_type": "code",
        "colab": {
          "autoexec": {
            "startup": false,
            "wait_interval": 0
          },
          "base_uri": "https://localhost:8080/",
          "height": 1977
        },
        "outputId": "4647f53f-0afc-466b-858e-9f9f92b7b806",
        "executionInfo": {
          "status": "ok",
          "timestamp": 1523265627354,
          "user_tz": -480,
          "elapsed": 700776,
          "user": {
            "displayName": "lu he",
            "photoUrl": "https://lh3.googleusercontent.com/a/default-user=s128",
            "userId": "103557473968571899636"
          }
        }
      },
      "cell_type": "code",
      "source": [
        "import numpy as np\n",
        "from keras.datasets import mnist\n",
        "import gc\n",
        "\n",
        "from keras.models import Sequential, Model\n",
        "from keras.layers import Input, Dense, Dropout, Flatten\n",
        "from keras.layers.convolutional import Conv2D, MaxPooling2D\n",
        "from keras.applications.vgg16 import VGG16\n",
        "from keras.optimizers import SGD\n",
        "import matplotlib.pyplot as plt\n",
        "import os\n",
        "\n",
        "import cv2\n",
        "import h5py as h5py \n",
        "import numpy as np\n",
        "def tran_y(y): \n",
        "    y_ohe = np.zeros(10) \n",
        "    y_ohe[y] = 1 \n",
        "    return y_ohe\n",
        "epochs = 20\n",
        "\n",
        "# 如果硬件配置较高，比如主机具备32GB以上内存，GPU具备8GB以上显存，可以适当增大这个值。VGG要求至少48像素\n",
        "ishape=48\n",
        "(X_train, y_train), (X_test, y_test) = mnist.load_data() \n",
        "\n",
        "X_train = [cv2.cvtColor(cv2.resize(i, (ishape, ishape)), cv2.COLOR_GRAY2BGR) for i in X_train] \n",
        "X_train = np.concatenate([arr[np.newaxis] for arr in X_train]).astype('float32') \n",
        "X_train /= 255.0\n",
        "\n",
        "X_test = [cv2.cvtColor(cv2.resize(i, (ishape, ishape)), cv2.COLOR_GRAY2BGR) for i in X_test] \n",
        "X_test = np.concatenate([arr[np.newaxis] for arr in X_test]).astype('float32')\n",
        "X_test /= 255.0\n",
        "\n",
        "y_train_ohe = np.array([tran_y(y_train[i]) for i in range(len(y_train))]) \n",
        "y_test_ohe = np.array([tran_y(y_test[i]) for i in range(len(y_test))])\n",
        "y_train_ohe = y_train_ohe.astype('float32')\n",
        "y_test_ohe = y_test_ohe.astype('float32')\n",
        "\n",
        "\n",
        "model_vgg = VGG16(include_top = False, weights = 'imagenet', input_shape = (ishape, ishape, 3)) \n",
        "for layer in model_vgg.layers:\n",
        "        layer.trainable = False\n",
        "model = Flatten()(model_vgg.output) \n",
        "model = Dense(4096, activation='relu', name='fc1')(model)\n",
        "model = Dense(4096, activation='relu', name='fc2')(model)\n",
        "model = Dropout(0.5)(model)\n",
        "model = Dense(10, activation = 'softmax', name='prediction')(model) \n",
        "model_vgg_mnist_pretrain = Model(model_vgg.input, model, name = 'vgg16_pretrain')\n",
        "model_vgg_mnist_pretrain.summary()\n",
        "sgd = SGD(lr = 0.05, decay = 1e-5) \n",
        "model_vgg_mnist_pretrain.compile(loss = 'categorical_crossentropy', optimizer = sgd, metrics = ['accuracy'])\n",
        "log  = model_vgg_mnist_pretrain.fit(X_train, y_train_ohe, validation_data = (X_test, y_test_ohe), epochs = epochs, batch_size = 64)\n",
        "\n",
        "score = model_vgg_mnist_pretrain.evaluate(X_test, y_test_ohe, verbose=0)\n",
        "print('Test loss:', score[0])\n",
        "print('Test accuracy:', score[1])\n",
        "\n",
        "plt.figure('acc')  \n",
        "plt.subplot(2, 1, 1)  \n",
        "plt.plot(log.history['acc'],'r--',label='Training Accuracy')  \n",
        "plt.plot(log.history['val_acc'],'r-',label='Validation Accuracy')  \n",
        "plt.legend(loc='best')  \n",
        "plt.xlabel('Epochs')  \n",
        "plt.axis([0, epochs, 0.9, 1])  \n",
        "plt.figure('loss')  \n",
        "plt.subplot(2, 1, 2)  \n",
        "plt.plot(log.history['loss'],'b--',label='Training Loss')  \n",
        "plt.plot(log.history['val_loss'],'b-',label='Validation Loss')  \n",
        "plt.legend(loc='best')  \n",
        "plt.xlabel('Epochs')  \n",
        "plt.axis([0, epochs, 0, 1])  \n",
        "  \n",
        "plt.show() \n",
        "os.system(\"pause\")"
      ],
      "execution_count": 0,
      "outputs": [
        {
          "output_type": "stream",
          "text": [
            "Using TensorFlow backend.\n"
          ],
          "name": "stderr"
        },
        {
          "output_type": "stream",
          "text": [
            "Downloading data from https://s3.amazonaws.com/img-datasets/mnist.npz\n",
            "11493376/11490434 [==============================] - 1s 0us/step\n",
            "Downloading data from https://github.com/fchollet/deep-learning-models/releases/download/v0.1/vgg16_weights_tf_dim_ordering_tf_kernels_notop.h5\n",
            "58892288/58889256 [==============================] - 3s 0us/step\n",
            "_________________________________________________________________\n",
            "Layer (type)                 Output Shape              Param #   \n",
            "=================================================================\n",
            "input_1 (InputLayer)         (None, 48, 48, 3)         0         \n",
            "_________________________________________________________________\n",
            "block1_conv1 (Conv2D)        (None, 48, 48, 64)        1792      \n",
            "_________________________________________________________________\n",
            "block1_conv2 (Conv2D)        (None, 48, 48, 64)        36928     \n",
            "_________________________________________________________________\n",
            "block1_pool (MaxPooling2D)   (None, 24, 24, 64)        0         \n",
            "_________________________________________________________________\n",
            "block2_conv1 (Conv2D)        (None, 24, 24, 128)       73856     \n",
            "_________________________________________________________________\n",
            "block2_conv2 (Conv2D)        (None, 24, 24, 128)       147584    \n",
            "_________________________________________________________________\n",
            "block2_pool (MaxPooling2D)   (None, 12, 12, 128)       0         \n",
            "_________________________________________________________________\n",
            "block3_conv1 (Conv2D)        (None, 12, 12, 256)       295168    \n",
            "_________________________________________________________________\n",
            "block3_conv2 (Conv2D)        (None, 12, 12, 256)       590080    \n",
            "_________________________________________________________________\n",
            "block3_conv3 (Conv2D)        (None, 12, 12, 256)       590080    \n",
            "_________________________________________________________________\n",
            "block3_pool (MaxPooling2D)   (None, 6, 6, 256)         0         \n",
            "_________________________________________________________________\n",
            "block4_conv1 (Conv2D)        (None, 6, 6, 512)         1180160   \n",
            "_________________________________________________________________\n",
            "block4_conv2 (Conv2D)        (None, 6, 6, 512)         2359808   \n",
            "_________________________________________________________________\n",
            "block4_conv3 (Conv2D)        (None, 6, 6, 512)         2359808   \n",
            "_________________________________________________________________\n",
            "block4_pool (MaxPooling2D)   (None, 3, 3, 512)         0         \n",
            "_________________________________________________________________\n",
            "block5_conv1 (Conv2D)        (None, 3, 3, 512)         2359808   \n",
            "_________________________________________________________________\n",
            "block5_conv2 (Conv2D)        (None, 3, 3, 512)         2359808   \n",
            "_________________________________________________________________\n",
            "block5_conv3 (Conv2D)        (None, 3, 3, 512)         2359808   \n",
            "_________________________________________________________________\n",
            "block5_pool (MaxPooling2D)   (None, 1, 1, 512)         0         \n",
            "_________________________________________________________________\n",
            "flatten_1 (Flatten)          (None, 512)               0         \n",
            "_________________________________________________________________\n",
            "fc1 (Dense)                  (None, 4096)              2101248   \n",
            "_________________________________________________________________\n",
            "fc2 (Dense)                  (None, 4096)              16781312  \n",
            "_________________________________________________________________\n",
            "dropout_1 (Dropout)          (None, 4096)              0         \n",
            "_________________________________________________________________\n",
            "prediction (Dense)           (None, 10)                40970     \n",
            "=================================================================\n",
            "Total params: 33,638,218\n",
            "Trainable params: 18,923,530\n",
            "Non-trainable params: 14,714,688\n",
            "_________________________________________________________________\n",
            "WARNING:tensorflow:Variable *= will be deprecated. Use variable.assign_mul if you want assignment to the variable value or 'x = x * y' if you want a new python Tensor object.\n",
            "Train on 60000 samples, validate on 10000 samples\n",
            "Epoch 1/10\n",
            " 1152/60000 [..............................] - ETA: 2:09 - loss: 2.0307 - acc: 0.3142"
          ],
          "name": "stdout"
        },
        {
          "output_type": "stream",
          "text": [
            "60000/60000 [==============================] - 68s 1ms/step - loss: 0.5408 - acc: 0.8253 - val_loss: 0.2794 - val_acc: 0.9124\n",
            "Epoch 2/10\n",
            " 6464/60000 [==>...........................] - ETA: 52s - loss: 0.2782 - acc: 0.9070"
          ],
          "name": "stdout"
        },
        {
          "output_type": "stream",
          "text": [
            "60000/60000 [==============================] - 66s 1ms/step - loss: 0.2453 - acc: 0.9218 - val_loss: 0.1554 - val_acc: 0.9500\n",
            "Epoch 3/10\n",
            " 8576/60000 [===>..........................] - ETA: 50s - loss: 0.1910 - acc: 0.9373"
          ],
          "name": "stdout"
        },
        {
          "output_type": "stream",
          "text": [
            "60000/60000 [==============================] - 66s 1ms/step - loss: 0.1849 - acc: 0.9407 - val_loss: 0.1456 - val_acc: 0.9543\n",
            "Epoch 4/10\n",
            " 9408/60000 [===>..........................] - ETA: 49s - loss: 0.1640 - acc: 0.9496"
          ],
          "name": "stdout"
        },
        {
          "output_type": "stream",
          "text": [
            "60000/60000 [==============================] - 66s 1ms/step - loss: 0.1565 - acc: 0.9495 - val_loss: 0.2051 - val_acc: 0.9283\n",
            "Epoch 5/10\n",
            " 9664/60000 [===>..........................] - ETA: 49s - loss: 0.1380 - acc: 0.9548"
          ],
          "name": "stdout"
        },
        {
          "output_type": "stream",
          "text": [
            "60000/60000 [==============================] - 66s 1ms/step - loss: 0.1402 - acc: 0.9551 - val_loss: 0.1210 - val_acc: 0.9610\n",
            "Epoch 6/10\n",
            " 9664/60000 [===>..........................] - ETA: 49s - loss: 0.1522 - acc: 0.9524"
          ],
          "name": "stdout"
        },
        {
          "output_type": "stream",
          "text": [
            "60000/60000 [==============================] - 66s 1ms/step - loss: 0.1307 - acc: 0.9586 - val_loss: 0.1541 - val_acc: 0.9517\n",
            "Epoch 7/10\n",
            " 9664/60000 [===>..........................] - ETA: 49s - loss: 0.1113 - acc: 0.9632"
          ],
          "name": "stdout"
        },
        {
          "output_type": "stream",
          "text": [
            "60000/60000 [==============================] - 66s 1ms/step - loss: 0.1183 - acc: 0.9617 - val_loss: 0.1297 - val_acc: 0.9573\n",
            "Epoch 8/10\n",
            " 9728/60000 [===>..........................] - ETA: 49s - loss: 0.1149 - acc: 0.9634"
          ],
          "name": "stdout"
        },
        {
          "output_type": "stream",
          "text": [
            "60000/60000 [==============================] - 66s 1ms/step - loss: 0.1112 - acc: 0.9638 - val_loss: 0.1130 - val_acc: 0.9628\n",
            "Epoch 9/10\n",
            " 9792/60000 [===>..........................] - ETA: 49s - loss: 0.1051 - acc: 0.9672"
          ],
          "name": "stdout"
        },
        {
          "output_type": "stream",
          "text": [
            "60000/60000 [==============================] - 66s 1ms/step - loss: 0.1028 - acc: 0.9672 - val_loss: 0.0953 - val_acc: 0.9703\n",
            "Epoch 10/10\n",
            " 9664/60000 [===>..........................] - ETA: 49s - loss: 0.1043 - acc: 0.9657"
          ],
          "name": "stdout"
        },
        {
          "output_type": "stream",
          "text": [
            "60000/60000 [==============================] - 66s 1ms/step - loss: 0.0989 - acc: 0.9672 - val_loss: 0.1020 - val_acc: 0.9673\n",
            "Test loss: 0.10201766314683482\n",
            "Test accuracy: 0.9673\n"
          ],
          "name": "stdout"
        },
        {
          "output_type": "display_data",
          "data": {
            "image/png": "[encoded data removed]",
            "text/plain": [
              "<matplotlib.figure.Figure at 0x7f24f6681748>"
            ]
          },
          "metadata": {
            "tags": []
          }
        },
        {
          "output_type": "display_data",
          "data": {
            "image/png": "[encoded data removed]",
            "text/plain": [
              "<matplotlib.figure.Figure at 0x7f24f7299358>"
            ]
          },
          "metadata": {
            "tags": []
          }
        },
        {
          "output_type": "execute_result",
          "data": {
            "text/plain": [
              "32512"
            ]
          },
          "metadata": {
            "tags": []
          },
          "execution_count": 1
        }
      ]
    },
    {
      "metadata": {
        "id": "GLT_f5MWU5kM",
        "colab_type": "text"
      },
      "cell_type": "markdown",
      "source": [
        "尝试res50,但是没有成功"
      ]
    },
    {
      "metadata": {
        "id": "mwdQ1INEZKkb",
        "colab_type": "code",
        "colab": {
          "autoexec": {
            "startup": false,
            "wait_interval": 0
          },
          "base_uri": "https://localhost:8080/",
          "height": 35
        },
        "outputId": "74b92499-cdb0-4d26-aae2-7ed1719b57eb"
      },
      "cell_type": "code",
      "source": [
        "import numpy as np\n",
        "from keras.datasets import mnist\n",
        "import gc\n",
        "\n",
        "from keras.models import Sequential, Model\n",
        "from keras.layers import Input, Dense, Dropout, Flatten\n",
        "from keras.layers.convolutional import Conv2D, MaxPooling2D\n",
        "from keras.applications.vgg16 import VGG16\n",
        "from keras.optimizers import SGD\n",
        "from keras.applications.resnet50 import ResNet50\n",
        "from keras.preprocessing import image\n",
        "from keras.applications.resnet50 import preprocess_input, decode_predictions\n",
        "import matplotlib.pyplot as plt\n",
        "\n",
        "import cv2\n",
        "import h5py as h5py \n",
        "import numpy as np\n",
        "def tran_y(y): \n",
        "    y_ohe = np.zeros(10) \n",
        "    y_ohe[y] = 1 \n",
        "    return y_ohe\n",
        "epochs =10\n",
        "\n",
        "# 如果硬件配置较高，比如主机具备32GB以上内存，GPU具备8GB以上显存，可以适当增大这个值。VGG要求至少48像素\n",
        "ishape=197\n",
        "(X_train, y_train), (X_test, y_test) = mnist.load_data() \n",
        "\n",
        "X_train = [cv2.cvtColor(cv2.resize(i, (ishape, ishape)), cv2.COLOR_GRAY2BGR) for i in X_train] \n",
        "X_train = np.concatenate([arr[np.newaxis] for arr in X_train]).astype('float32') \n",
        "X_train /= 255.0\n",
        "\n",
        "X_test = [cv2.cvtColor(cv2.resize(i, (ishape, ishape)), cv2.COLOR_GRAY2BGR) for i in X_test] \n",
        "X_test = np.concatenate([arr[np.newaxis] for arr in X_test]).astype('float32')\n",
        "X_test /= 255.0\n",
        "\n",
        "y_train_ohe = np.array([tran_y(y_train[i]) for i in range(len(y_train))]) \n",
        "y_test_ohe = np.array([tran_y(y_test[i]) for i in range(len(y_test))])\n",
        "y_train_ohe = y_train_ohe.astype('float32')\n",
        "y_test_ohe = y_test_ohe.astype('float32')\n",
        "\n",
        "\n",
        "model_resnet50 = ResNet50(include_top = False, weights = 'imagenet', input_shape = (ishape, ishape, 3))\n",
        "\n",
        "for layer in model_resnet50:\n",
        "        layer.trainable = False\n",
        "\n",
        "model = Flatten()(model_resnet50.output) \n",
        "model = Dense(4096, activation='relu', name='fc1')(model)\n",
        "model = Dense(4096, activation='relu', name='fc2')(model)\n",
        "model = Dropout(0.5)(model)\n",
        "model = Dense(10, activation = 'softmax', name='prediction')(model) \n",
        "\n",
        "model_resnet50_pretrain = Model(model_resnet50.input,model,name = 'resnet50_pretrain')\n",
        "model_resnet50_pretrain.summary()\n",
        "sgd = SGD(lr = 0.05, decay = 1e-5) \n",
        "model_resnet50_pretrain.compile(loss = 'categorical_crossentropy', optimizer = sgd, metrics = ['accuracy'])\n",
        "log  = model_resnet50_pretrain.fit(X_train, y_train_ohe, validation_data = (X_test, y_test_ohe), epochs = 10, batch_size = 64)\n",
        "\n",
        "score = model_resnet50_pretrain.evaluate(X_test, y_test_ohe, verbose=0)\n",
        "print('Test loss:', score[0])\n",
        "print('Test accuracy:', score[1])\n",
        "\n",
        "plt.figure('acc')  \n",
        "plt.subplot(2, 1, 1)  \n",
        "plt.plot(log.history['acc'],'r--',label='Training Accuracy')  \n",
        "plt.plot(log.history['val_acc'],'r-',label='Validation Accuracy')  \n",
        "plt.legend(loc='best')  \n",
        "plt.xlabel('Epochs')  \n",
        "plt.axis([0, epochs, 0.9, 1])  \n",
        "plt.figure('loss')  \n",
        "plt.subplot(2, 1, 2)  \n",
        "plt.plot(log.history['loss'],'b--',label='Training Loss')  \n",
        "plt.plot(log.history['val_loss'],'b-',label='Validation Loss')  \n",
        "plt.legend(loc='best')  \n",
        "plt.xlabel('Epochs')  \n",
        "plt.axis([0, epochs, 0, 1])  \n",
        "plt.show() "
      ],
      "execution_count": 0,
      "outputs": [
        {
          "output_type": "stream",
          "text": [
            "Using TensorFlow backend.\n"
          ],
          "name": "stderr"
        }
      ]
    },
    {
      "metadata": {
        "id": "u6rG2dFAU_k9",
        "colab_type": "text"
      },
      "cell_type": "markdown",
      "source": [
        "fashion-mnist"
      ]
    },
    {
      "metadata": {
        "id": "tx1zjUVDU-4e",
        "colab_type": "code",
        "colab": {
          "autoexec": {
            "startup": false,
            "wait_interval": 0
          },
          "base_uri": "https://localhost:8080/",
          "height": 1367
        },
        "outputId": "dfc3713d-a2b1-47da-c834-8d9823935b9b"
      },
      "cell_type": "code",
      "source": [
        "import numpy as np\n",
        "from keras.datasets import fashion_mnist\n",
        "import gc\n",
        "\n",
        "from keras.models import Sequential, Model\n",
        "from keras.layers import Input, Dense, Dropout, Flatten\n",
        "from keras.layers.convolutional import Conv2D, MaxPooling2D\n",
        "from keras.applications.vgg16 import VGG16\n",
        "from keras.optimizers import SGD\n",
        "import matplotlib.pyplot as plt\n",
        "import os\n",
        "\n",
        "import cv2\n",
        "import h5py as h5py \n",
        "import numpy as np\n",
        "def tran_y(y): \n",
        "    y_ohe = np.zeros(10) \n",
        "    y_ohe[y] = 1 \n",
        "    return y_ohe\n",
        "epochs = 10\n",
        "\n",
        "# 如果硬件配置较高，比如主机具备32GB以上内存，GPU具备8GB以上显存，可以适当增大这个值。VGG要求至少48像素\n",
        "ishape=48\n",
        "(X_train, y_train), (X_test, y_test) = fashion_mnist.load_data() \n",
        "\n",
        "X_train = [cv2.cvtColor(cv2.resize(i, (ishape, ishape)), cv2.COLOR_GRAY2BGR) for i in X_train] \n",
        "X_train = np.concatenate([arr[np.newaxis] for arr in X_train]).astype('float32') \n",
        "X_train /= 255.0\n",
        "\n",
        "X_test = [cv2.cvtColor(cv2.resize(i, (ishape, ishape)), cv2.COLOR_GRAY2BGR) for i in X_test] \n",
        "X_test = np.concatenate([arr[np.newaxis] for arr in X_test]).astype('float32')\n",
        "X_test /= 255.0\n",
        "\n",
        "y_train_ohe = np.array([tran_y(y_train[i]) for i in range(len(y_train))]) \n",
        "y_test_ohe = np.array([tran_y(y_test[i]) for i in range(len(y_test))])\n",
        "y_train_ohe = y_train_ohe.astype('float32')\n",
        "y_test_ohe = y_test_ohe.astype('float32')\n",
        "\n",
        "\n",
        "model_vgg = VGG16(include_top = False, weights = 'imagenet', input_shape = (ishape, ishape, 3)) \n",
        "for layer in model_vgg.layers:\n",
        "        layer.trainable = False\n",
        "model = Flatten()(model_vgg.output) \n",
        "model = Dense(4096, activation='relu', name='fc1')(model)\n",
        "model = Dense(4096, activation='relu', name='fc2')(model)\n",
        "model = Dropout(0.5)(model)\n",
        "model = Dense(10, activation = 'softmax', name='prediction')(model) \n",
        "model_vgg_mnist_pretrain = Model(model_vgg.input, model, name = 'vgg16_pretrain')\n",
        "model_vgg_mnist_pretrain.summary()\n",
        "sgd = SGD(lr = 0.05, decay = 1e-5) \n",
        "model_vgg_mnist_pretrain.compile(loss = 'categorical_crossentropy', optimizer = sgd, metrics = ['accuracy'])\n",
        "log  = model_vgg_mnist_pretrain.fit(X_train, y_train_ohe, validation_data = (X_test, y_test_ohe), epochs = epochs, batch_size = 64)\n",
        "\n",
        "score = model_vgg_mnist_pretrain.evaluate(X_test, y_test_ohe, verbose=0)\n",
        "print('Test loss:', score[0])\n",
        "print('Test accuracy:', score[1])\n",
        "\n",
        "plt.figure('acc')  \n",
        "plt.subplot(2, 1, 1)  \n",
        "plt.plot(log.history['acc'],'r--',label='Training Accuracy')  \n",
        "plt.plot(log.history['val_acc'],'r-',label='Validation Accuracy')  \n",
        "plt.legend(loc='best')  \n",
        "plt.xlabel('Epochs')  \n",
        "plt.axis([0, epochs, 0.9, 1])  \n",
        "plt.figure('loss')  \n",
        "plt.subplot(2, 1, 2)  \n",
        "plt.plot(log.history['loss'],'b--',label='Training Loss')  \n",
        "plt.plot(log.history['val_loss'],'b-',label='Validation Loss')  \n",
        "plt.legend(loc='best')  \n",
        "plt.xlabel('Epochs')  \n",
        "plt.axis([0, epochs, 0, 1])  \n",
        "  \n",
        "plt.show() \n",
        "os.system(\"pause\")"
      ],
      "execution_count": 0,
      "outputs": [
        {
          "output_type": "stream",
          "text": [
            "_________________________________________________________________\n",
            "Layer (type)                 Output Shape              Param #   \n",
            "=================================================================\n",
            "input_2 (InputLayer)         (None, 48, 48, 3)         0         \n",
            "_________________________________________________________________\n",
            "block1_conv1 (Conv2D)        (None, 48, 48, 64)        1792      \n",
            "_________________________________________________________________\n",
            "block1_conv2 (Conv2D)        (None, 48, 48, 64)        36928     \n",
            "_________________________________________________________________\n",
            "block1_pool (MaxPooling2D)   (None, 24, 24, 64)        0         \n",
            "_________________________________________________________________\n",
            "block2_conv1 (Conv2D)        (None, 24, 24, 128)       73856     \n",
            "_________________________________________________________________\n",
            "block2_conv2 (Conv2D)        (None, 24, 24, 128)       147584    \n",
            "_________________________________________________________________\n",
            "block2_pool (MaxPooling2D)   (None, 12, 12, 128)       0         \n",
            "_________________________________________________________________\n",
            "block3_conv1 (Conv2D)        (None, 12, 12, 256)       295168    \n",
            "_________________________________________________________________\n",
            "block3_conv2 (Conv2D)        (None, 12, 12, 256)       590080    \n",
            "_________________________________________________________________\n",
            "block3_conv3 (Conv2D)        (None, 12, 12, 256)       590080    \n",
            "_________________________________________________________________\n",
            "block3_pool (MaxPooling2D)   (None, 6, 6, 256)         0         \n",
            "_________________________________________________________________\n",
            "block4_conv1 (Conv2D)        (None, 6, 6, 512)         1180160   \n",
            "_________________________________________________________________\n",
            "block4_conv2 (Conv2D)        (None, 6, 6, 512)         2359808   \n",
            "_________________________________________________________________\n",
            "block4_conv3 (Conv2D)        (None, 6, 6, 512)         2359808   \n",
            "_________________________________________________________________\n",
            "block4_pool (MaxPooling2D)   (None, 3, 3, 512)         0         \n",
            "_________________________________________________________________\n",
            "block5_conv1 (Conv2D)        (None, 3, 3, 512)         2359808   \n",
            "_________________________________________________________________\n",
            "block5_conv2 (Conv2D)        (None, 3, 3, 512)         2359808   \n",
            "_________________________________________________________________\n",
            "block5_conv3 (Conv2D)        (None, 3, 3, 512)         2359808   \n",
            "_________________________________________________________________\n",
            "block5_pool (MaxPooling2D)   (None, 1, 1, 512)         0         \n",
            "_________________________________________________________________\n",
            "flatten_2 (Flatten)          (None, 512)               0         \n",
            "_________________________________________________________________\n",
            "fc1 (Dense)                  (None, 4096)              2101248   \n",
            "_________________________________________________________________\n",
            "fc2 (Dense)                  (None, 4096)              16781312  \n",
            "_________________________________________________________________\n",
            "dropout_2 (Dropout)          (None, 4096)              0         \n",
            "_________________________________________________________________\n",
            "prediction (Dense)           (None, 10)                40970     \n",
            "=================================================================\n",
            "Total params: 33,638,218\n",
            "Trainable params: 18,923,530\n",
            "Non-trainable params: 14,714,688\n",
            "_________________________________________________________________\n",
            "Train on 60000 samples, validate on 10000 samples\n",
            "Epoch 1/10\n",
            " 1472/60000 [..............................] - ETA: 1:11 - loss: 1.7832 - acc: 0.3988"
          ],
          "name": "stdout"
        },
        {
          "output_type": "stream",
          "text": [
            "60000/60000 [==============================] - 66s 1ms/step - loss: 0.6387 - acc: 0.7708 - val_loss: 0.5471 - val_acc: 0.8014\n",
            "Epoch 2/10\n",
            " 6656/60000 [==>...........................] - ETA: 52s - loss: 0.4863 - acc: 0.8265"
          ],
          "name": "stdout"
        },
        {
          "output_type": "stream",
          "text": [
            "60000/60000 [==============================] - 66s 1ms/step - loss: 0.4647 - acc: 0.8301 - val_loss: 0.5079 - val_acc: 0.8102\n",
            "Epoch 3/10\n",
            " 8576/60000 [===>..........................] - ETA: 49s - loss: 0.4375 - acc: 0.8405"
          ],
          "name": "stdout"
        },
        {
          "output_type": "stream",
          "text": [
            "60000/60000 [==============================] - 65s 1ms/step - loss: 0.4253 - acc: 0.8438 - val_loss: 0.4183 - val_acc: 0.8486\n",
            "Epoch 4/10\n",
            " 9408/60000 [===>..........................] - ETA: 49s - loss: 0.4007 - acc: 0.8536"
          ],
          "name": "stdout"
        },
        {
          "output_type": "stream",
          "text": [
            "60000/60000 [==============================] - 65s 1ms/step - loss: 0.3996 - acc: 0.8521 - val_loss: 0.4397 - val_acc: 0.8406\n",
            "Epoch 5/10\n",
            " 9664/60000 [===>..........................] - ETA: 48s - loss: 0.3867 - acc: 0.8562"
          ],
          "name": "stdout"
        },
        {
          "output_type": "stream",
          "text": [
            "60000/60000 [==============================] - 65s 1ms/step - loss: 0.3800 - acc: 0.8595 - val_loss: 0.4522 - val_acc: 0.8344\n",
            "Epoch 6/10\n",
            " 9792/60000 [===>..........................] - ETA: 48s - loss: 0.3674 - acc: 0.8666"
          ],
          "name": "stdout"
        },
        {
          "output_type": "stream",
          "text": [
            "60000/60000 [==============================] - 65s 1ms/step - loss: 0.3652 - acc: 0.8664 - val_loss: 0.3937 - val_acc: 0.8600\n",
            "Epoch 7/10\n",
            " 9856/60000 [===>..........................] - ETA: 48s - loss: 0.3509 - acc: 0.8702"
          ],
          "name": "stdout"
        },
        {
          "output_type": "stream",
          "text": [
            "60000/60000 [==============================] - 65s 1ms/step - loss: 0.3558 - acc: 0.8688 - val_loss: 0.3717 - val_acc: 0.8646\n",
            "Epoch 8/10\n",
            " 9856/60000 [===>..........................] - ETA: 48s - loss: 0.3400 - acc: 0.8735"
          ],
          "name": "stdout"
        },
        {
          "output_type": "stream",
          "text": [
            "53824/60000 [=========================>....] - ETA: 5s - loss: 0.3445 - acc: 0.8724"
          ],
          "name": "stdout"
        }
      ]
    }
  ]
}